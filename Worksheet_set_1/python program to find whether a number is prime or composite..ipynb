{
 "cells": [
  {
   "cell_type": "code",
   "execution_count": 1,
   "id": "7f6c5e7c",
   "metadata": {},
   "outputs": [
    {
     "name": "stdout",
     "output_type": "stream",
     "text": [
      "Enter the no :123\n",
      "Its a Composite No: \n"
     ]
    }
   ],
   "source": [
    "num=int(input(\"Enter the no :\"))\n",
    "count=0\n",
    "i=1\n",
    "while i<=num:\n",
    "    if num%i==0:\n",
    "        count=count+1\n",
    "    i=i+1\n",
    "if count==2:\n",
    "    print(\"Its a Prime Nos: \")\n",
    "elif count>2:\n",
    "    print(\"Its a Composite No: \")"
   ]
  },
  {
   "cell_type": "code",
   "execution_count": 2,
   "id": "13ff24a0",
   "metadata": {},
   "outputs": [
    {
     "name": "stdout",
     "output_type": "stream",
     "text": [
      "Enter the no :345\n",
      "Its a Composite No: \n"
     ]
    }
   ],
   "source": [
    "num=int(input(\"Enter the no :\"))\n",
    "count=0\n",
    "i=1\n",
    "while i<=num:\n",
    "    if num%i==0:\n",
    "        count=count+1\n",
    "    i=i+1\n",
    "if count==2:\n",
    "    print(\"Its a Prime Nos: \")\n",
    "elif count>2:\n",
    "    print(\"Its a Composite No: \")"
   ]
  },
  {
   "cell_type": "code",
   "execution_count": 3,
   "id": "90721fab",
   "metadata": {},
   "outputs": [
    {
     "name": "stdout",
     "output_type": "stream",
     "text": [
      "Enter the no :17\n",
      "Its a Prime Nos: \n"
     ]
    }
   ],
   "source": [
    "num=int(input(\"Enter the no :\"))\n",
    "count=0\n",
    "i=1\n",
    "while i<=num:\n",
    "    if num%i==0:\n",
    "        count=count+1\n",
    "    i=i+1\n",
    "if count==2:\n",
    "    print(\"Its a Prime Nos: \")\n",
    "elif count>2:\n",
    "    print(\"Its a Composite No: \")"
   ]
  },
  {
   "cell_type": "code",
   "execution_count": null,
   "id": "052895ed",
   "metadata": {},
   "outputs": [],
   "source": []
  }
 ],
 "metadata": {
  "kernelspec": {
   "display_name": "Python 3 (ipykernel)",
   "language": "python",
   "name": "python3"
  },
  "language_info": {
   "codemirror_mode": {
    "name": "ipython",
    "version": 3
   },
   "file_extension": ".py",
   "mimetype": "text/x-python",
   "name": "python",
   "nbconvert_exporter": "python",
   "pygments_lexer": "ipython3",
   "version": "3.9.7"
  }
 },
 "nbformat": 4,
 "nbformat_minor": 5
}
