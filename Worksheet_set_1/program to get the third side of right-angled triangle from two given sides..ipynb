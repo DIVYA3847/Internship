{
 "cells": [
  {
   "cell_type": "code",
   "execution_count": 4,
   "id": "24598444",
   "metadata": {},
   "outputs": [
    {
     "name": "stdout",
     "output_type": "stream",
     "text": [
      "Base=3\n",
      "Perp=4\n",
      "Hypotenuse= 5.0\n"
     ]
    }
   ],
   "source": [
    "import math\n",
    "B = int (input(\"Base=\"))\n",
    "P = int(input(\"Perp=\"))\n",
    "H = math.sqrt(B*B+P*P)\n",
    "print(\"Hypotenuse=\",H)"
   ]
  },
  {
   "cell_type": "code",
   "execution_count": 5,
   "id": "b45f5d57",
   "metadata": {},
   "outputs": [
    {
     "name": "stdout",
     "output_type": "stream",
     "text": [
      "Base=12\n",
      "Perp=13\n",
      "Hypotenuse= 17.69180601295413\n"
     ]
    }
   ],
   "source": [
    "import math\n",
    "B = int (input(\"Base=\"))\n",
    "P = int(input(\"Perp=\"))\n",
    "H = math.sqrt(B*B+P*P)\n",
    "print(\"Hypotenuse=\",H)"
   ]
  },
  {
   "cell_type": "code",
   "execution_count": 6,
   "id": "601d70d9",
   "metadata": {},
   "outputs": [
    {
     "name": "stdout",
     "output_type": "stream",
     "text": [
      "Base=13\n",
      "Perp=14\n",
      "Hypotenuse= 19.1049731745428\n"
     ]
    }
   ],
   "source": [
    "import math\n",
    "B = int (input(\"Base=\"))\n",
    "P = int(input(\"Perp=\"))\n",
    "H = math.sqrt(B*B+P*P)\n",
    "print(\"Hypotenuse=\",H)"
   ]
  },
  {
   "cell_type": "code",
   "execution_count": null,
   "id": "84e516eb",
   "metadata": {},
   "outputs": [],
   "source": []
  }
 ],
 "metadata": {
  "kernelspec": {
   "display_name": "Python 3 (ipykernel)",
   "language": "python",
   "name": "python3"
  },
  "language_info": {
   "codemirror_mode": {
    "name": "ipython",
    "version": 3
   },
   "file_extension": ".py",
   "mimetype": "text/x-python",
   "name": "python",
   "nbconvert_exporter": "python",
   "pygments_lexer": "ipython3",
   "version": "3.9.7"
  }
 },
 "nbformat": 4,
 "nbformat_minor": 5
}
