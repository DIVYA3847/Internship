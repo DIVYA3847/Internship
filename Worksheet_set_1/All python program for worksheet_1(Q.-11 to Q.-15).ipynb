{
 "cells": [
  {
   "cell_type": "code",
   "execution_count": 1,
   "id": "54a67866",
   "metadata": {},
   "outputs": [
    {
     "name": "stdout",
     "output_type": "stream",
     "text": [
      "Enter the number6\n",
      "The factorial of 6  is  720\n"
     ]
    }
   ],
   "source": [
    "# Queastion - 11_Write a python program to find the factorial of a number\n",
    "fact = 1\n",
    "num = int (input(\"Enter the number\"))\n",
    "org = num\n",
    "while num > 0:\n",
    "    fact = fact * num\n",
    "    num = num - 1\n",
    "print (\"The factorial of\", org ,\" is \", fact)"
   ]
  },
  {
   "cell_type": "code",
   "execution_count": 14,
   "id": "0856d8f0",
   "metadata": {},
   "outputs": [
    {
     "name": "stdout",
     "output_type": "stream",
     "text": [
      "Enter the no :23\n",
      "Its a Prime Nos: \n"
     ]
    }
   ],
   "source": [
    "# Question-12_Write a python program to find whether a number is prime or composite\n",
    "\n",
    "num=int(input(\"Enter the no :\"))\n",
    "count=0\n",
    "i=1\n",
    "while i<=num:\n",
    "    if num%i==0:\n",
    "        count=count+1\n",
    "    i=i+1\n",
    "if count==2:\n",
    "    print(\"Its a Prime Nos: \")\n",
    "elif count>2:\n",
    "    print(\"Its a Composite No: \")"
   ]
  },
  {
   "cell_type": "code",
   "execution_count": 6,
   "id": "36e31ab8",
   "metadata": {},
   "outputs": [
    {
     "name": "stdout",
     "output_type": "stream",
     "text": [
      "Enter stringMALAYALAM\n",
      "MALAYALAM  is Palindrome\n"
     ]
    }
   ],
   "source": [
    "# Question_13_Write a python program to check whether a given string is palindrome or not.\n",
    "\n",
    "str=input(\"Enter string\")\n",
    "\n",
    "if str==str[::-1]:\n",
    "    print(str,\" is Palindrome\")\n",
    "else:\n",
    "    print(str,\" is not Palindrome\")"
   ]
  },
  {
   "cell_type": "code",
   "execution_count": 8,
   "id": "61fa9602",
   "metadata": {},
   "outputs": [
    {
     "name": "stdout",
     "output_type": "stream",
     "text": [
      "Base=10\n",
      "Perp=12\n",
      "Hypotenuse= 15.620499351813308\n"
     ]
    }
   ],
   "source": [
    "#Question_14_Write a Python program to get the third side of right-angled triangle from two given sides.\n",
    "\n",
    "import math\n",
    "B = int (input(\"Base=\"))\n",
    "P = int(input(\"Perp=\"))\n",
    "H = math.sqrt(B*B+P*P)\n",
    "print(\"Hypotenuse=\",H)"
   ]
  },
  {
   "cell_type": "code",
   "execution_count": 12,
   "id": "d7b6535f",
   "metadata": {},
   "outputs": [
    {
     "name": "stdout",
     "output_type": "stream",
     "text": [
      "Enter the stringdfgrfdgrfdgrfdg\n",
      "{'d': 4, 'f': 4, 'g': 4, 'r': 3}\n"
     ]
    }
   ],
   "source": [
    "# Question _15_Write a python program to print the frequency of each of the characters present in a given string.\n",
    "\n",
    "str1 = input (\"Enter the string\")\n",
    "d1 = dict()\n",
    "for c in str1:\n",
    "    if c in d1:\n",
    "        d1[c] = d1[c] + 1\n",
    "    else:\n",
    "        \n",
    "        d1[c] = 1\n",
    "print (d1)"
   ]
  },
  {
   "cell_type": "code",
   "execution_count": null,
   "id": "eba5c9a1",
   "metadata": {},
   "outputs": [],
   "source": []
  }
 ],
 "metadata": {
  "kernelspec": {
   "display_name": "Python 3 (ipykernel)",
   "language": "python",
   "name": "python3"
  },
  "language_info": {
   "codemirror_mode": {
    "name": "ipython",
    "version": 3
   },
   "file_extension": ".py",
   "mimetype": "text/x-python",
   "name": "python",
   "nbconvert_exporter": "python",
   "pygments_lexer": "ipython3",
   "version": "3.9.7"
  }
 },
 "nbformat": 4,
 "nbformat_minor": 5
}
