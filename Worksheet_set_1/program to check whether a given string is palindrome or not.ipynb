{
 "cells": [
  {
   "cell_type": "code",
   "execution_count": 1,
   "id": "9c36ded2",
   "metadata": {},
   "outputs": [
    {
     "name": "stdout",
     "output_type": "stream",
     "text": [
      "Enter stringnaman\n",
      "naman  is Palindrome\n"
     ]
    }
   ],
   "source": [
    "str=input(\"Enter string\")\n",
    "\n",
    "if str==str[::-1]:\n",
    "    print(str,\" is Palindrome\")\n",
    "else:\n",
    "    print(str,\" is not Palindrome\")"
   ]
  },
  {
   "cell_type": "code",
   "execution_count": 2,
   "id": "fd1fe386",
   "metadata": {},
   "outputs": [
    {
     "name": "stdout",
     "output_type": "stream",
     "text": [
      "Enter stringshubham\n",
      "shubham  is not Palindrome\n"
     ]
    }
   ],
   "source": [
    "str=input(\"Enter string\")\n",
    "\n",
    "if str==str[::-1]:\n",
    "    print(str,\" is Palindrome\")\n",
    "else:\n",
    "    print(str,\" is not Palindrome\")"
   ]
  },
  {
   "cell_type": "code",
   "execution_count": 3,
   "id": "93729b2d",
   "metadata": {},
   "outputs": [
    {
     "name": "stdout",
     "output_type": "stream",
     "text": [
      "Enter stringmalyalam\n",
      "malyalam  is not Palindrome\n"
     ]
    }
   ],
   "source": [
    "str=input(\"Enter string\")\n",
    "\n",
    "if str==str[::-1]:\n",
    "    print(str,\" is Palindrome\")\n",
    "else:\n",
    "    print(str,\" is not Palindrome\")"
   ]
  },
  {
   "cell_type": "code",
   "execution_count": null,
   "id": "b803c87d",
   "metadata": {},
   "outputs": [],
   "source": []
  }
 ],
 "metadata": {
  "kernelspec": {
   "display_name": "Python 3 (ipykernel)",
   "language": "python",
   "name": "python3"
  },
  "language_info": {
   "codemirror_mode": {
    "name": "ipython",
    "version": 3
   },
   "file_extension": ".py",
   "mimetype": "text/x-python",
   "name": "python",
   "nbconvert_exporter": "python",
   "pygments_lexer": "ipython3",
   "version": "3.9.7"
  }
 },
 "nbformat": 4,
 "nbformat_minor": 5
}
