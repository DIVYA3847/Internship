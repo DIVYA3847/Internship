{
 "cells": [
  {
   "cell_type": "code",
   "execution_count": 3,
   "id": "8ea08688",
   "metadata": {},
   "outputs": [
    {
     "name": "stdout",
     "output_type": "stream",
     "text": [
      "Enter the number6\n",
      "The factorial of 6  is  720\n"
     ]
    }
   ],
   "source": [
    "fact = 1\n",
    "num = int (input(\"Enter the number\"))\n",
    "org = num\n",
    "while num > 0:\n",
    "    fact = fact * num\n",
    "    num = num - 1\n",
    "print (\"The factorial of\", org ,\" is \", fact)"
   ]
  },
  {
   "cell_type": "code",
   "execution_count": 4,
   "id": "eb5defc4",
   "metadata": {},
   "outputs": [
    {
     "name": "stdout",
     "output_type": "stream",
     "text": [
      "Enter the number4\n",
      "The factorial of 4  is  24\n"
     ]
    }
   ],
   "source": [
    "fact = 1\n",
    "num = int (input(\"Enter the number\"))\n",
    "org = num\n",
    "while num > 0:\n",
    "    fact = fact * num\n",
    "    num = num - 1\n",
    "print (\"The factorial of\", org ,\" is \", fact)"
   ]
  },
  {
   "cell_type": "code",
   "execution_count": null,
   "id": "e1f9bb94",
   "metadata": {},
   "outputs": [],
   "source": []
  }
 ],
 "metadata": {
  "kernelspec": {
   "display_name": "Python 3 (ipykernel)",
   "language": "python",
   "name": "python3"
  },
  "language_info": {
   "codemirror_mode": {
    "name": "ipython",
    "version": 3
   },
   "file_extension": ".py",
   "mimetype": "text/x-python",
   "name": "python",
   "nbconvert_exporter": "python",
   "pygments_lexer": "ipython3",
   "version": "3.9.7"
  }
 },
 "nbformat": 4,
 "nbformat_minor": 5
}
